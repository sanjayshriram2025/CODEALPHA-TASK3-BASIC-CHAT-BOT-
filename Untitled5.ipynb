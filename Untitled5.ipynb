{
 "cells": [
  {
   "cell_type": "code",
   "execution_count": 4,
   "id": "15de8521-2266-4f79-84f2-fa0ad579f833",
   "metadata": {},
   "outputs": [
    {
     "name": "stdout",
     "output_type": "stream",
     "text": [
      "SanjayBot: Hello! I'm SanjayBot — your virtual assistant.\n",
      "You can ask me things like: 'hello', 'what time is it?', 'how are you', 'joke', 'fact', 'mood', or type 'bye' to exit.\n",
      "\n"
     ]
    },
    {
     "name": "stdin",
     "output_type": "stream",
     "text": [
      "You:  hello\n"
     ]
    },
    {
     "name": "stdout",
     "output_type": "stream",
     "text": [
      "SanjayBot: Hello there! What’s your name?\n"
     ]
    },
    {
     "name": "stdin",
     "output_type": "stream",
     "text": [
      " You:  sanjay\n"
     ]
    },
    {
     "name": "stdout",
     "output_type": "stream",
     "text": [
      "SanjayBot: Nice to meet you, sanjay! \n"
     ]
    },
    {
     "name": "stdin",
     "output_type": "stream",
     "text": [
      "You:  what time is it\n"
     ]
    },
    {
     "name": "stdout",
     "output_type": "stream",
     "text": [
      "SanjayBot: It's 11:59 PM.\n"
     ]
    },
    {
     "name": "stdin",
     "output_type": "stream",
     "text": [
      "You:  how are you\n"
     ]
    },
    {
     "name": "stdout",
     "output_type": "stream",
     "text": [
      "SanjayBot: I'm doing well, thank you! How about you?\n"
     ]
    },
    {
     "name": "stdin",
     "output_type": "stream",
     "text": [
      "You:  joke\n"
     ]
    },
    {
     "name": "stdout",
     "output_type": "stream",
     "text": [
      " SanjayBot: sanjay shriram is brilliant\n"
     ]
    },
    {
     "name": "stdin",
     "output_type": "stream",
     "text": [
      "You:  fact\n"
     ]
    },
    {
     "name": "stdout",
     "output_type": "stream",
     "text": [
      " SanjayBot: kudikaran sollu vidunjone pochu,ponnunga pechu sonnone pochu\n"
     ]
    },
    {
     "name": "stdin",
     "output_type": "stream",
     "text": [
      "You:  mood\n"
     ]
    },
    {
     "name": "stdout",
     "output_type": "stream",
     "text": [
      "SanjayBot: Let's cheer you up! Want a joke or a fact?\n"
     ]
    },
    {
     "name": "stdin",
     "output_type": "stream",
     "text": [
      "Type 'joke' or 'fact':  fact\n"
     ]
    },
    {
     "name": "stdout",
     "output_type": "stream",
     "text": [
      "SanjayBot: My college girls are below the average and not worth\n"
     ]
    },
    {
     "name": "stdin",
     "output_type": "stream",
     "text": [
      "You:  bye\n"
     ]
    },
    {
     "name": "stdout",
     "output_type": "stream",
     "text": [
      "SanjayBot: Goodbye! Take care \n"
     ]
    }
   ],
   "source": [
    "import time\n",
    "from datetime import datetime\n",
    "import random\n",
    "\n",
    "def get_time():\n",
    "    return datetime.now().strftime(\"%I:%M %p\")\n",
    "\n",
    "def tell_joke():\n",
    "    jokes = [\n",
    "        \"What is the differnt between a knife and wife? At least knife has a point! 😂\",\n",
    "        \"sanjay shriram is brilliant\",\n",
    "        \"shibu says he has big a$$ than girls\",\n",
    "    ]\n",
    "    return random.choice(jokes)\n",
    "\n",
    "def give_fact():\n",
    "    facts = [\n",
    "        \"kudikaran sollu vidunjone pochu,ponnunga pechu sonnone pochu\",\n",
    "        \"Dont go behind holes follow your goals\",\n",
    "        \"My college girls are below the average and not worth\",\n",
    "    ]\n",
    "    return random.choice(facts)\n",
    "\n",
    "def chatbot():\n",
    "    print(\"SanjayBot: Hello! I'm SanjayBot — your virtual assistant.\")\n",
    "    print(\"You can ask me things like: 'hello', 'what time is it?', 'how are you', 'joke', 'fact', 'mood', or type 'bye' to exit.\\n\")\n",
    "\n",
    "    user_name = None\n",
    "\n",
    "    while True:\n",
    "        user_input = input(\"You: \").lower()\n",
    "\n",
    "        # Exit condition\n",
    "        if \"bye\" in user_input:\n",
    "            print(\"SanjayBot: Goodbye! Take care \")\n",
    "            break\n",
    "\n",
    "        # Greet\n",
    "        elif \"hello\" in user_input or \"hi\" in user_input:\n",
    "            print(\"SanjayBot: Hello there! What’s your name?\")\n",
    "            if not user_name:\n",
    "                user_name = input(\" You: \")\n",
    "                print(f\"SanjayBot: Nice to meet you, {user_name}! \")\n",
    "\n",
    "        # Time\n",
    "        elif \"time\" in user_input:\n",
    "            print(f\"SanjayBot: It's {get_time()}.\")\n",
    "\n",
    "        # Name recall\n",
    "        elif \"my name is\" in user_input:\n",
    "            user_name = user_input.split(\"is\")[-1].strip().capitalize()\n",
    "            print(f\" SanjayBot: Got it, {user_name}! \")\n",
    "\n",
    "        elif \"what's my name\" in user_input and user_name:\n",
    "            print(f\" SanjayBot: Your name is {user_name}, right? \")\n",
    "\n",
    "        # How are you\n",
    "        elif \"how are you\" in user_input:\n",
    "            print(\"SanjayBot: I'm doing well, thank you! How about you?\")\n",
    "\n",
    "        # Thank you\n",
    "        elif \"thank\" in user_input:\n",
    "            print(\" SanjayBot: You're welcome! \")\n",
    "\n",
    "        # Tell me a joke\n",
    "        elif \"joke\" in user_input:\n",
    "            print(\" SanjayBot: \" + tell_joke())\n",
    "\n",
    "        # Give me a fact\n",
    "        elif \"fact\" in user_input or \"interesting\" in user_input:\n",
    "            print(\" SanjayBot: \" + give_fact())\n",
    "\n",
    "        # Mood checker\n",
    "        elif \"mood\" in user_input or \"bored\" in user_input:\n",
    "            print(\"SanjayBot: Let's cheer you up! Want a joke or a fact?\")\n",
    "            choice = input(\"Type 'joke' or 'fact': \").lower()\n",
    "            if \"joke\" in choice:\n",
    "                print(\"SanjayBot: \" + tell_joke())\n",
    "            elif \"fact\" in choice:\n",
    "                print(\"SanjayBot: \" + give_fact())\n",
    "            else:\n",
    "                print(\"SanjayBot: Hmm, I’ll surprise you next time then!\")\n",
    "\n",
    "        # Recommend something\n",
    "        elif \"recommend\" in user_input:\n",
    "            print(\"SanjayBot: Would you like a movie or a book recommendation?\")\n",
    "            rec = input(\"Type 'movie' or 'book': \").lower()\n",
    "            if rec == \"movie\":\n",
    "                print(\"SanjayBot: You should try 'Interstellar' or 'The Imitation Game'!\")\n",
    "            elif rec == \"book\":\n",
    "                print(\"SanjayBot: 'Atomic Habits' by James Clear is a great read!\")\n",
    "            else:\n",
    "                print(\"SanjayBot: Maybe next time!\")\n",
    "\n",
    "        # Weather-type interaction (simulated)\n",
    "        elif \"weather\" in user_input:\n",
    "            print(\"SanjayBot: I don't have live weather data, but it’s always sunny in Python land! \")\n",
    "\n",
    "        # Unrecognized input\n",
    "        else:\n",
    "            print(\"SanjayBot: Hmm... I didn’t understand that. Try 'joke', 'fact', 'time', or 'bye'. \")\n",
    "\n",
    "# Run the bot\n",
    "chatbot()\n"
   ]
  },
  {
   "cell_type": "code",
   "execution_count": null,
   "id": "f83ee753-dabb-41a4-9ef3-97f78436fd0f",
   "metadata": {},
   "outputs": [],
   "source": []
  }
 ],
 "metadata": {
  "kernelspec": {
   "display_name": "Python 3 (ipykernel)",
   "language": "python",
   "name": "python3"
  },
  "language_info": {
   "codemirror_mode": {
    "name": "ipython",
    "version": 3
   },
   "file_extension": ".py",
   "mimetype": "text/x-python",
   "name": "python",
   "nbconvert_exporter": "python",
   "pygments_lexer": "ipython3",
   "version": "3.13.5"
  }
 },
 "nbformat": 4,
 "nbformat_minor": 5
}
